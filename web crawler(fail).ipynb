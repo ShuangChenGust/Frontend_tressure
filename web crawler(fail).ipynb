{
 "cells": [
  {
   "cell_type": "code",
   "execution_count": 55,
   "metadata": {},
   "outputs": [],
   "source": [
    "import requests\n",
    "import json\n",
    "import re\n",
    "import pandas as pd\n",
    "from bs4 import BeautifulSoup"
   ]
  },
  {
   "cell_type": "code",
   "execution_count": 56,
   "metadata": {},
   "outputs": [],
   "source": [
    "# coding=utf-8\n",
    "url = 'https://news.qq.com/zt2020/page/feiyan.htm#/country?ct=United%20States'\n",
    "headers = {'User-Agent': 'Mozilla/5.0 (Macintosh; Intel Mac OS X 10_12_3) AppleWebKit/537.36 (KHTML, like Gecko) Chrome/56.0.2924.87 Safari/537.36'}"
   ]
  },
  {
   "cell_type": "code",
   "execution_count": 57,
   "metadata": {},
   "outputs": [
    {
     "name": "stdout",
     "output_type": "stream",
     "text": [
      "<!DOCTYPE html><html><head><meta charset=utf-8><meta http-equiv=X-UA-Compatible content=\"IE=edge\"><meta name=viewport content=\"width=device-width,initial-scale=1,maximum-scale=1,user-scalable=no\"><meta name=format-detection content=\"telephone=no\"><meta property=og:type content=website><meta property=og:title content=实时更新：全国新冠肺炎疫情最新动态><meta property=og:description content=腾讯新闻第一时间同步全国新冠肺炎疫情动态，欢迎关注、转发。><meta property=og:image content=https://mat1.gtimg.com/news/images/inews/2020/feiyan/img/h5-04.jpg><meta http-equiv=Access-Control-Allow-Origin content=*><script>var ___url = window.location.href;\n",
      "  var ___h = '';\n",
      "  if (___url.indexOf('https') >= 0) {\n",
      "      ___h = 'https://';\n",
      "  } else {\n",
      "      ___h = 'http://';\n",
      "  };\n",
      "  ___url = ___url.replace(___h, '');\n",
      "  if (___url.indexOf('//') >= 0) {\n",
      "      ___url = ___url.replace('//', '/');\n",
      "      window.location.href = ___h + ___url;\n",
      "  };</script><link rel=stylesheet href=https://mat1.gtimg.com/news/images/inews/2020/feiyan/18/libs/swiper.min.css><title>实时更新：新冠肺炎疫情最新动态</title><link href=https://mat1.gtimg.com/news/feiyanarea/app.08e0fb51.css rel=preload as=style><link charset=\"utf-8\" href=https://mat1.gtimg.com/news/feiyanarea/app.6649d36a.js rel=preload as=script><link charset=\"utf-8\" href=https://mat1.gtimg.com/news/feiyanarea/chunk-vendors.180e700a.js rel=preload as=script><link href=https://mat1.gtimg.com/news/feiyanarea/app.08e0fb51.css rel=stylesheet></head><script src=//mat1.gtimg.com/yslp/yyh5/mapview/libs/createjs-2015.11.26.min.js charset=utf-8></script><script src=https://mat1.gtimg.com/news/images/inews/2020/feiyan/18/libs/swiper.min.js charset=utf-8></script><script src=//mat1.gtimg.com/news/images/inews/2020/feiyan/18/libs/echarts.min.js charset=utf-8></script><script src=https://mat1.gtimg.com/news/images/inews/libs/digg.platform.js charset=utf-8></script><body class=scroll><div id=app></div><div class=pageLoading></div><style>.pageLoading {\n",
      "    position: fixed;\n",
      "    left: 0;\n",
      "    top: 0;\n",
      "    right: 0;\n",
      "    bottom: 0;\n",
      "    background:url(\"https://mat1.gtimg.com/news/images/inews/2020/feiyan/img/logo.png\") no-repeat center center;\n",
      "    background-size: 200px auto;\n",
      "    background-color: #fff;\n",
      "    z-index:99;\n",
      "  }</style><style id=sprite></style><script src=https://mat1.gtimg.com/news/images/share.js></script><script src=https://qzonestyle.gtimg.cn/qzone/qzact/common/share/share.js></script><script></script><script>var _mtac = {};\n",
      "  (function() {\n",
      "    var mta = document.createElement(\"script\");\n",
      "    mta.src = \"//pingjs.qq.com/h5/stats.js?v2.0.4\";\n",
      "    mta.setAttribute(\"name\", \"MTAH5\");\n",
      "    mta.setAttribute(\"sid\", \"500709844\");\n",
      "    mta.setAttribute(\"cid\", \"500709845\");\n",
      "    var s = document.getElementsByTagName(\"script\")[0];\n",
      "    s.parentNode.insertBefore(mta, s);\n",
      "  })();</script><script charset=\"utf-8\" src=https://mat1.gtimg.com/news/feiyanarea/chunk-vendors.180e700a.js></script><script charset=\"utf-8\" src=https://mat1.gtimg.com/news/feiyanarea/app.6649d36a.js></script></body></html><!--[if !IE]>|xGv00|c5555c196f2e882e15d7658e3955e68d<![endif]-->\n"
     ]
    }
   ],
   "source": [
    "res = requests.get(url,headers=headers)\n",
    "res.encoding = res.apparent_encoding\n",
    "html = res.text\n",
    "print(html)"
   ]
  },
  {
   "cell_type": "code",
   "execution_count": 58,
   "metadata": {},
   "outputs": [
    {
     "data": {
      "text/plain": [
       "<!DOCTYPE html>\n",
       "<html><head><meta charset=\"utf-8\"/><meta content=\"IE=edge\" http-equiv=\"X-UA-Compatible\"/><meta content=\"width=device-width,initial-scale=1,maximum-scale=1,user-scalable=no\" name=\"viewport\"/><meta content=\"telephone=no\" name=\"format-detection\"/><meta content=\"website\" property=\"og:type\"/><meta content=\"实时更新：全国新冠肺炎疫情最新动态\" property=\"og:title\"/><meta content=\"腾讯新闻第一时间同步全国新冠肺炎疫情动态，欢迎关注、转发。\" property=\"og:description\"/><meta content=\"https://mat1.gtimg.com/news/images/inews/2020/feiyan/img/h5-04.jpg\" property=\"og:image\"/><meta content=\"*\" http-equiv=\"Access-Control-Allow-Origin\"/><script>var ___url = window.location.href;\n",
       "  var ___h = '';\n",
       "  if (___url.indexOf('https') >= 0) {\n",
       "      ___h = 'https://';\n",
       "  } else {\n",
       "      ___h = 'http://';\n",
       "  };\n",
       "  ___url = ___url.replace(___h, '');\n",
       "  if (___url.indexOf('//') >= 0) {\n",
       "      ___url = ___url.replace('//', '/');\n",
       "      window.location.href = ___h + ___url;\n",
       "  };</script><link href=\"https://mat1.gtimg.com/news/images/inews/2020/feiyan/18/libs/swiper.min.css\" rel=\"stylesheet\"/><title>实时更新：新冠肺炎疫情最新动态</title><link as=\"style\" href=\"https://mat1.gtimg.com/news/feiyanarea/app.08e0fb51.css\" rel=\"preload\"/><link as=\"script\" charset=\"utf-8\" href=\"https://mat1.gtimg.com/news/feiyanarea/app.6649d36a.js\" rel=\"preload\"/><link as=\"script\" charset=\"utf-8\" href=\"https://mat1.gtimg.com/news/feiyanarea/chunk-vendors.180e700a.js\" rel=\"preload\"/><link href=\"https://mat1.gtimg.com/news/feiyanarea/app.08e0fb51.css\" rel=\"stylesheet\"/></head><script charset=\"utf-8\" src=\"//mat1.gtimg.com/yslp/yyh5/mapview/libs/createjs-2015.11.26.min.js\"></script><script charset=\"utf-8\" src=\"https://mat1.gtimg.com/news/images/inews/2020/feiyan/18/libs/swiper.min.js\"></script><script charset=\"utf-8\" src=\"//mat1.gtimg.com/news/images/inews/2020/feiyan/18/libs/echarts.min.js\"></script><script charset=\"utf-8\" src=\"https://mat1.gtimg.com/news/images/inews/libs/digg.platform.js\"></script><body class=\"scroll\"><div id=\"app\"></div><div class=\"pageLoading\"></div><style>.pageLoading {\n",
       "    position: fixed;\n",
       "    left: 0;\n",
       "    top: 0;\n",
       "    right: 0;\n",
       "    bottom: 0;\n",
       "    background:url(\"https://mat1.gtimg.com/news/images/inews/2020/feiyan/img/logo.png\") no-repeat center center;\n",
       "    background-size: 200px auto;\n",
       "    background-color: #fff;\n",
       "    z-index:99;\n",
       "  }</style><style id=\"sprite\"></style><script src=\"https://mat1.gtimg.com/news/images/share.js\"></script><script src=\"https://qzonestyle.gtimg.cn/qzone/qzact/common/share/share.js\"></script><script></script><script>var _mtac = {};\n",
       "  (function() {\n",
       "    var mta = document.createElement(\"script\");\n",
       "    mta.src = \"//pingjs.qq.com/h5/stats.js?v2.0.4\";\n",
       "    mta.setAttribute(\"name\", \"MTAH5\");\n",
       "    mta.setAttribute(\"sid\", \"500709844\");\n",
       "    mta.setAttribute(\"cid\", \"500709845\");\n",
       "    var s = document.getElementsByTagName(\"script\")[0];\n",
       "    s.parentNode.insertBefore(mta, s);\n",
       "  })();</script><script charset=\"utf-8\" src=\"https://mat1.gtimg.com/news/feiyanarea/chunk-vendors.180e700a.js\"></script><script charset=\"utf-8\" src=\"https://mat1.gtimg.com/news/feiyanarea/app.6649d36a.js\"></script></body></html><!--[if !IE]>|xGv00|c5555c196f2e882e15d7658e3955e68d<![endif]-->"
      ]
     },
     "execution_count": 58,
     "metadata": {},
     "output_type": "execute_result"
    }
   ],
   "source": [
    "soup = BeautifulSoup(res.text)\n",
    "soup"
   ]
  },
  {
   "cell_type": "code",
   "execution_count": 59,
   "metadata": {},
   "outputs": [],
   "source": [
    "t = soup.find_all(td=\" data-v-785a7912\")"
   ]
  },
  {
   "cell_type": "code",
   "execution_count": 60,
   "metadata": {},
   "outputs": [
    {
     "data": {
      "text/plain": [
       "[]"
      ]
     },
     "execution_count": 60,
     "metadata": {},
     "output_type": "execute_result"
    }
   ],
   "source": [
    "t"
   ]
  },
  {
   "cell_type": "code",
   "execution_count": null,
   "metadata": {},
   "outputs": [],
   "source": []
  },
  {
   "cell_type": "code",
   "execution_count": null,
   "metadata": {},
   "outputs": [],
   "source": []
  }
 ],
 "metadata": {
  "kernelspec": {
   "display_name": "Python 3",
   "language": "python",
   "name": "python3"
  },
  "language_info": {
   "codemirror_mode": {
    "name": "ipython",
    "version": 3
   },
   "file_extension": ".py",
   "mimetype": "text/x-python",
   "name": "python",
   "nbconvert_exporter": "python",
   "pygments_lexer": "ipython3",
   "version": "3.7.4"
  }
 },
 "nbformat": 4,
 "nbformat_minor": 2
}
